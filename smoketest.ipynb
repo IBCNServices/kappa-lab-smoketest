{
 "cells": [
  {
   "cell_type": "code",
   "execution_count": 1,
   "metadata": {},
   "outputs": [
    {
     "output_type": "stream",
     "name": "stdout",
     "text": [
      "Collecting kafka-python\n  Downloading kafka_python-2.0.2-py2.py3-none-any.whl (246 kB)\nCollecting flask\n  Downloading Flask-1.1.2-py2.py3-none-any.whl (94 kB)\nCollecting Werkzeug>=0.15\n  Downloading Werkzeug-1.0.1-py2.py3-none-any.whl (298 kB)\nCollecting itsdangerous>=0.24\n  Downloading itsdangerous-1.1.0-py2.py3-none-any.whl (16 kB)\nRequirement already satisfied: Jinja2>=2.10.1 in /opt/conda/lib/python3.8/site-packages (from flask) (2.11.2)\nRequirement already satisfied: click>=5.1 in /opt/conda/lib/python3.8/site-packages (from flask) (7.1.2)\nRequirement already satisfied: MarkupSafe>=0.23 in /opt/conda/lib/python3.8/site-packages (from Jinja2>=2.10.1->flask) (1.1.1)\nInstalling collected packages: kafka-python, Werkzeug, itsdangerous, flask\nSuccessfully installed Werkzeug-1.0.1 flask-1.1.2 itsdangerous-1.1.0 kafka-python-2.0.2\n"
     ]
    }
   ],
   "source": [
    "%%bash\n",
    "# Install the required Python 3 dependencies\n",
    "python3 -m pip install kafka-python flask"
   ]
  },
  {
   "cell_type": "code",
   "execution_count": 2,
   "metadata": {},
   "outputs": [
    {
     "output_type": "execute_result",
     "data": {
      "text/plain": [
       "RecordMetadata(topic='smoke-test', partition=0, topic_partition=TopicPartition(topic='smoke-test', partition=0), offset=2, timestamp=1605548184318, log_start_offset=None, checksum=2322400209, serialized_key_size=-1, serialized_value_size=3, serialized_header_size=-1)"
      ]
     },
     "metadata": {},
     "execution_count": 2
    }
   ],
   "source": [
    "from kafka import KafkaProducer\n",
    "\n",
    "topic =\"smoke-test\"\n",
    "producer = KafkaProducer(bootstrap_servers=['localhost:9092'])\n",
    "# Note: The data you send must be binary\n",
    "producer.send(topic, b\"Hello World!\").get(timeout=30)\n",
    "# Note: The data you send must be binary\n",
    "producer.send(topic, b\"Foo\").get(timeout=30)\n",
    "producer.send(topic, b\"Bar\").get(timeout=30)"
   ]
  },
  {
   "cell_type": "code",
   "execution_count": 3,
   "metadata": {},
   "outputs": [
    {
     "output_type": "display_data",
     "data": {
      "text/plain": "{'message': 'Getting offsets from KafkaV2[Subscribe[smoke-test]]',\n 'isDataAvailable': False,\n 'isTriggerActive': True}"
     },
     "metadata": {}
    },
    {
     "output_type": "display_data",
     "data": {
      "text/plain": "    key                                              value       topic  \\\n0  None  [72, 101, 108, 108, 111, 32, 87, 111, 114, 108...  smoke-test   \n1  None                                     [70, 111, 111]  smoke-test   \n2  None                                      [66, 97, 114]  smoke-test   \n\n   partition  offset               timestamp  timestampType  \n0          0       0 2020-11-16 17:36:24.289              0  \n1          0       1 2020-11-16 17:36:24.316              0  \n2          0       2 2020-11-16 17:36:24.318              0  ",
      "text/html": "<div>\n<style scoped>\n    .dataframe tbody tr th:only-of-type {\n        vertical-align: middle;\n    }\n\n    .dataframe tbody tr th {\n        vertical-align: top;\n    }\n\n    .dataframe thead th {\n        text-align: right;\n    }\n</style>\n<table border=\"1\" class=\"dataframe\">\n  <thead>\n    <tr style=\"text-align: right;\">\n      <th></th>\n      <th>key</th>\n      <th>value</th>\n      <th>topic</th>\n      <th>partition</th>\n      <th>offset</th>\n      <th>timestamp</th>\n      <th>timestampType</th>\n    </tr>\n  </thead>\n  <tbody>\n    <tr>\n      <th>0</th>\n      <td>None</td>\n      <td>[72, 101, 108, 108, 111, 32, 87, 111, 114, 108...</td>\n      <td>smoke-test</td>\n      <td>0</td>\n      <td>0</td>\n      <td>2020-11-16 17:36:24.289</td>\n      <td>0</td>\n    </tr>\n    <tr>\n      <th>1</th>\n      <td>None</td>\n      <td>[70, 111, 111]</td>\n      <td>smoke-test</td>\n      <td>0</td>\n      <td>1</td>\n      <td>2020-11-16 17:36:24.316</td>\n      <td>0</td>\n    </tr>\n    <tr>\n      <th>2</th>\n      <td>None</td>\n      <td>[66, 97, 114]</td>\n      <td>smoke-test</td>\n      <td>0</td>\n      <td>2</td>\n      <td>2020-11-16 17:36:24.318</td>\n      <td>0</td>\n    </tr>\n  </tbody>\n</table>\n</div>"
     },
     "metadata": {}
    }
   ],
   "source": [
    "from IPython.display import display, clear_output\n",
    "from time import sleep\n",
    "\n",
    "import os\n",
    "os.environ['PYSPARK_SUBMIT_ARGS'] = '--packages org.apache.spark:spark-sql-kafka-0-10_2.12:3.0.0 pyspark-shell'\n",
    "os.environ['SPARK_OPTS'] = \"--driver-java-options=-Xms1024M --driver-java-options=-Xmx4096M --driver-java-options=-Dlog4j.logLevel=warn\"\n",
    "\n",
    "\n",
    "import pyspark \n",
    "from pyspark import SparkContext\n",
    "from pyspark.sql.session import SparkSession\n",
    "from pyspark.sql.types import *\n",
    "from pyspark.sql.functions import *\n",
    "\n",
    "spark = SparkSession.builder.master('local[2]').getOrCreate()\n",
    "sc = spark.sparkContext\n",
    "\n",
    "df = (\n",
    "    spark.readStream.format(\"kafka\")\n",
    "    .option(\"kafka.bootstrap.servers\",\"localhost:9092\")\n",
    "    .option(\"subscribe\", \"smoke-test\")\n",
    "    .option(\"startingOffsets\", \"earliest\")\n",
    "    .load()\n",
    ")\n",
    "\n",
    "smoke_test_query = (\n",
    "    df.writeStream                  # Create an output stream for the query\n",
    "    .outputMode(\"append\")           # Add each msg to end of \"streaming table\"\n",
    "    .format(\"memory\")               # Write output stream to Spark table\n",
    "    .queryName(\"test_query\") \n",
    "    .start()\n",
    ")\n",
    "\n",
    "# Wait until query runs for a bit\n",
    "sleep(10)\n",
    "\n",
    "# Display status of query\n",
    "display(smoke_test_query.status)\n",
    "\n",
    "# Show result in Jupyter Notebook\n",
    "display(\n",
    "    spark.table(\"test_query\").toPandas()\n",
    ")\n",
    "\n",
    "# Stop query\n",
    "smoke_test_query.stop()\n"
   ]
  }
 ],
 "metadata": {
  "kernelspec": {
   "display_name": "Python 3",
   "language": "python",
   "name": "python3"
  },
  "language_info": {
   "codemirror_mode": {
    "name": "ipython",
    "version": 3
   },
   "file_extension": ".py",
   "mimetype": "text/x-python",
   "name": "python",
   "nbconvert_exporter": "python",
   "pygments_lexer": "ipython3",
   "version": "3.8.6-final"
  }
 },
 "nbformat": 4,
 "nbformat_minor": 2
}